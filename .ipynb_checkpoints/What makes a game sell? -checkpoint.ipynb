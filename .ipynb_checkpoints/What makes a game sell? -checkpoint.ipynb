{
 "cells": [
  {
   "cell_type": "markdown",
   "metadata": {},
   "source": [
    "### INTRO: Why are you here? \n",
    "    Now more than ever there are a lot of games on steam. With hundreds of thousands of titles already on the store, and hundreds more each week it's incredibly daunting to be in the business of trying to release a game on steam. Which, in a way, I am. I mean I have a real job too, but what I'd really like to do is release an indie hit. something like Slime Rancher, Stardew Valley, or Terraria, get a nose job, bicep implants, and retire to my mountain mansion. I don't have the magic formula for doing that as an indie, but I do have the data from 27,000 steam games to pour over.\n",
    "    \n",
    "    Datascience has many powerful tools to gain insights from large ammounts of data. In this tutorial we'll see how to use those tools to decide where an Indie developer might best spend their effort to get a hit on their hands. \n",
    "    \n",
    "    we'll start by searching the data for trends that might be useful, things like a genre that sells well, or a release window that has more sales. Anything that trends positively in ownership we'll examine. \n",
    "    Next, we'll determine which of those metrics seem promising, and then construct a useful model to select good game properties that a developer can control, which increase the chances that her game is successful. \n",
    "    \n",
    "    The outcome will be a handy demonstration of what data can teach us about the efforts of developers that came before, which will give all of the teams out there another metric with which they can select and fine-tune their next game launch. \n",
    "    \n",
    "    \n",
    "    "
   ]
  },
  {
   "cell_type": "markdown",
   "metadata": {},
   "source": [
    "### Step one: setup python"
   ]
  },
  {
   "cell_type": "code",
   "execution_count": 2,
   "metadata": {},
   "outputs": [],
   "source": [
    "import pandas\n",
    "import numpy\n",
    "import seaborn\n",
    "import sklearn\n",
    "#these libraries should get you started, make sure you have all of them installed!"
   ]
  },
  {
   "cell_type": "markdown",
   "metadata": {},
   "source": [
    "### Step two: get your data\n",
    "Now, in general there are lots of ways to get data. For this tutorial I've taken the easy way out and downloaded \n",
    "the files straight from kaggle. I got them from the following link: \n",
    "https://www.kaggle.com/nikdavis/steam-store-games  \n",
    "\n",
    "If you download that folder from kaggle you'll get the following folder or similar:   \n",
    "\n",
    "    227895-490308-bundle-archive\n",
    "\n",
    "Which, is about as ugly as I am on the inside, so I renamed it to: \n",
    "\n",
    "    steamData\n",
    " \n",
    "and put it in my working directory. \n",
    "\n",
    "\n",
    "Once you have your data locally, it's a simple matter to get it into pandas using csv_read"
   ]
  },
  {
   "cell_type": "code",
   "execution_count": 3,
   "metadata": {},
   "outputs": [
    {
     "data": {
      "text/html": [
       "<div>\n",
       "<style scoped>\n",
       "    .dataframe tbody tr th:only-of-type {\n",
       "        vertical-align: middle;\n",
       "    }\n",
       "\n",
       "    .dataframe tbody tr th {\n",
       "        vertical-align: top;\n",
       "    }\n",
       "\n",
       "    .dataframe thead th {\n",
       "        text-align: right;\n",
       "    }\n",
       "</style>\n",
       "<table border=\"1\" class=\"dataframe\">\n",
       "  <thead>\n",
       "    <tr style=\"text-align: right;\">\n",
       "      <th></th>\n",
       "      <th>appid</th>\n",
       "      <th>name</th>\n",
       "      <th>release_date</th>\n",
       "      <th>english</th>\n",
       "      <th>developer</th>\n",
       "      <th>publisher</th>\n",
       "      <th>platforms</th>\n",
       "      <th>required_age</th>\n",
       "      <th>categories</th>\n",
       "      <th>genres</th>\n",
       "      <th>steamspy_tags</th>\n",
       "      <th>achievements</th>\n",
       "      <th>positive_ratings</th>\n",
       "      <th>negative_ratings</th>\n",
       "      <th>average_playtime</th>\n",
       "      <th>median_playtime</th>\n",
       "      <th>owners</th>\n",
       "      <th>price</th>\n",
       "    </tr>\n",
       "  </thead>\n",
       "  <tbody>\n",
       "    <tr>\n",
       "      <th>0</th>\n",
       "      <td>10</td>\n",
       "      <td>Counter-Strike</td>\n",
       "      <td>2000-11-01</td>\n",
       "      <td>1</td>\n",
       "      <td>Valve</td>\n",
       "      <td>Valve</td>\n",
       "      <td>windows;mac;linux</td>\n",
       "      <td>0</td>\n",
       "      <td>Multi-player;Online Multi-Player;Local Multi-P...</td>\n",
       "      <td>Action</td>\n",
       "      <td>Action;FPS;Multiplayer</td>\n",
       "      <td>0</td>\n",
       "      <td>124534</td>\n",
       "      <td>3339</td>\n",
       "      <td>17612</td>\n",
       "      <td>317</td>\n",
       "      <td>10000000-20000000</td>\n",
       "      <td>7.19</td>\n",
       "    </tr>\n",
       "    <tr>\n",
       "      <th>1</th>\n",
       "      <td>20</td>\n",
       "      <td>Team Fortress Classic</td>\n",
       "      <td>1999-04-01</td>\n",
       "      <td>1</td>\n",
       "      <td>Valve</td>\n",
       "      <td>Valve</td>\n",
       "      <td>windows;mac;linux</td>\n",
       "      <td>0</td>\n",
       "      <td>Multi-player;Online Multi-Player;Local Multi-P...</td>\n",
       "      <td>Action</td>\n",
       "      <td>Action;FPS;Multiplayer</td>\n",
       "      <td>0</td>\n",
       "      <td>3318</td>\n",
       "      <td>633</td>\n",
       "      <td>277</td>\n",
       "      <td>62</td>\n",
       "      <td>5000000-10000000</td>\n",
       "      <td>3.99</td>\n",
       "    </tr>\n",
       "    <tr>\n",
       "      <th>2</th>\n",
       "      <td>30</td>\n",
       "      <td>Day of Defeat</td>\n",
       "      <td>2003-05-01</td>\n",
       "      <td>1</td>\n",
       "      <td>Valve</td>\n",
       "      <td>Valve</td>\n",
       "      <td>windows;mac;linux</td>\n",
       "      <td>0</td>\n",
       "      <td>Multi-player;Valve Anti-Cheat enabled</td>\n",
       "      <td>Action</td>\n",
       "      <td>FPS;World War II;Multiplayer</td>\n",
       "      <td>0</td>\n",
       "      <td>3416</td>\n",
       "      <td>398</td>\n",
       "      <td>187</td>\n",
       "      <td>34</td>\n",
       "      <td>5000000-10000000</td>\n",
       "      <td>3.99</td>\n",
       "    </tr>\n",
       "    <tr>\n",
       "      <th>3</th>\n",
       "      <td>40</td>\n",
       "      <td>Deathmatch Classic</td>\n",
       "      <td>2001-06-01</td>\n",
       "      <td>1</td>\n",
       "      <td>Valve</td>\n",
       "      <td>Valve</td>\n",
       "      <td>windows;mac;linux</td>\n",
       "      <td>0</td>\n",
       "      <td>Multi-player;Online Multi-Player;Local Multi-P...</td>\n",
       "      <td>Action</td>\n",
       "      <td>Action;FPS;Multiplayer</td>\n",
       "      <td>0</td>\n",
       "      <td>1273</td>\n",
       "      <td>267</td>\n",
       "      <td>258</td>\n",
       "      <td>184</td>\n",
       "      <td>5000000-10000000</td>\n",
       "      <td>3.99</td>\n",
       "    </tr>\n",
       "    <tr>\n",
       "      <th>4</th>\n",
       "      <td>50</td>\n",
       "      <td>Half-Life: Opposing Force</td>\n",
       "      <td>1999-11-01</td>\n",
       "      <td>1</td>\n",
       "      <td>Gearbox Software</td>\n",
       "      <td>Valve</td>\n",
       "      <td>windows;mac;linux</td>\n",
       "      <td>0</td>\n",
       "      <td>Single-player;Multi-player;Valve Anti-Cheat en...</td>\n",
       "      <td>Action</td>\n",
       "      <td>FPS;Action;Sci-fi</td>\n",
       "      <td>0</td>\n",
       "      <td>5250</td>\n",
       "      <td>288</td>\n",
       "      <td>624</td>\n",
       "      <td>415</td>\n",
       "      <td>5000000-10000000</td>\n",
       "      <td>3.99</td>\n",
       "    </tr>\n",
       "    <tr>\n",
       "      <th>...</th>\n",
       "      <td>...</td>\n",
       "      <td>...</td>\n",
       "      <td>...</td>\n",
       "      <td>...</td>\n",
       "      <td>...</td>\n",
       "      <td>...</td>\n",
       "      <td>...</td>\n",
       "      <td>...</td>\n",
       "      <td>...</td>\n",
       "      <td>...</td>\n",
       "      <td>...</td>\n",
       "      <td>...</td>\n",
       "      <td>...</td>\n",
       "      <td>...</td>\n",
       "      <td>...</td>\n",
       "      <td>...</td>\n",
       "      <td>...</td>\n",
       "      <td>...</td>\n",
       "    </tr>\n",
       "    <tr>\n",
       "      <th>27070</th>\n",
       "      <td>1065230</td>\n",
       "      <td>Room of Pandora</td>\n",
       "      <td>2019-04-24</td>\n",
       "      <td>1</td>\n",
       "      <td>SHEN JIAWEI</td>\n",
       "      <td>SHEN JIAWEI</td>\n",
       "      <td>windows</td>\n",
       "      <td>0</td>\n",
       "      <td>Single-player;Steam Achievements</td>\n",
       "      <td>Adventure;Casual;Indie</td>\n",
       "      <td>Adventure;Indie;Casual</td>\n",
       "      <td>7</td>\n",
       "      <td>3</td>\n",
       "      <td>0</td>\n",
       "      <td>0</td>\n",
       "      <td>0</td>\n",
       "      <td>0-20000</td>\n",
       "      <td>2.09</td>\n",
       "    </tr>\n",
       "    <tr>\n",
       "      <th>27071</th>\n",
       "      <td>1065570</td>\n",
       "      <td>Cyber Gun</td>\n",
       "      <td>2019-04-23</td>\n",
       "      <td>1</td>\n",
       "      <td>Semyon Maximov</td>\n",
       "      <td>BekkerDev Studio</td>\n",
       "      <td>windows</td>\n",
       "      <td>0</td>\n",
       "      <td>Single-player</td>\n",
       "      <td>Action;Adventure;Indie</td>\n",
       "      <td>Action;Indie;Adventure</td>\n",
       "      <td>0</td>\n",
       "      <td>8</td>\n",
       "      <td>1</td>\n",
       "      <td>0</td>\n",
       "      <td>0</td>\n",
       "      <td>0-20000</td>\n",
       "      <td>1.69</td>\n",
       "    </tr>\n",
       "    <tr>\n",
       "      <th>27072</th>\n",
       "      <td>1065650</td>\n",
       "      <td>Super Star Blast</td>\n",
       "      <td>2019-04-24</td>\n",
       "      <td>1</td>\n",
       "      <td>EntwicklerX</td>\n",
       "      <td>EntwicklerX</td>\n",
       "      <td>windows</td>\n",
       "      <td>0</td>\n",
       "      <td>Single-player;Multi-player;Co-op;Shared/Split ...</td>\n",
       "      <td>Action;Casual;Indie</td>\n",
       "      <td>Action;Indie;Casual</td>\n",
       "      <td>24</td>\n",
       "      <td>0</td>\n",
       "      <td>1</td>\n",
       "      <td>0</td>\n",
       "      <td>0</td>\n",
       "      <td>0-20000</td>\n",
       "      <td>3.99</td>\n",
       "    </tr>\n",
       "    <tr>\n",
       "      <th>27073</th>\n",
       "      <td>1066700</td>\n",
       "      <td>New Yankee 7: Deer Hunters</td>\n",
       "      <td>2019-04-17</td>\n",
       "      <td>1</td>\n",
       "      <td>Yustas Game Studio</td>\n",
       "      <td>Alawar Entertainment</td>\n",
       "      <td>windows;mac</td>\n",
       "      <td>0</td>\n",
       "      <td>Single-player;Steam Cloud</td>\n",
       "      <td>Adventure;Casual;Indie</td>\n",
       "      <td>Indie;Casual;Adventure</td>\n",
       "      <td>0</td>\n",
       "      <td>2</td>\n",
       "      <td>0</td>\n",
       "      <td>0</td>\n",
       "      <td>0</td>\n",
       "      <td>0-20000</td>\n",
       "      <td>5.19</td>\n",
       "    </tr>\n",
       "    <tr>\n",
       "      <th>27074</th>\n",
       "      <td>1069460</td>\n",
       "      <td>Rune Lord</td>\n",
       "      <td>2019-04-24</td>\n",
       "      <td>1</td>\n",
       "      <td>Adept Studios GD</td>\n",
       "      <td>Alawar Entertainment</td>\n",
       "      <td>windows;mac</td>\n",
       "      <td>0</td>\n",
       "      <td>Single-player;Steam Cloud</td>\n",
       "      <td>Adventure;Casual;Indie</td>\n",
       "      <td>Indie;Casual;Adventure</td>\n",
       "      <td>0</td>\n",
       "      <td>4</td>\n",
       "      <td>0</td>\n",
       "      <td>0</td>\n",
       "      <td>0</td>\n",
       "      <td>0-20000</td>\n",
       "      <td>5.19</td>\n",
       "    </tr>\n",
       "  </tbody>\n",
       "</table>\n",
       "<p>27075 rows × 18 columns</p>\n",
       "</div>"
      ],
      "text/plain": [
       "         appid                        name release_date  english  \\\n",
       "0           10              Counter-Strike   2000-11-01        1   \n",
       "1           20       Team Fortress Classic   1999-04-01        1   \n",
       "2           30               Day of Defeat   2003-05-01        1   \n",
       "3           40          Deathmatch Classic   2001-06-01        1   \n",
       "4           50   Half-Life: Opposing Force   1999-11-01        1   \n",
       "...        ...                         ...          ...      ...   \n",
       "27070  1065230             Room of Pandora   2019-04-24        1   \n",
       "27071  1065570                   Cyber Gun   2019-04-23        1   \n",
       "27072  1065650            Super Star Blast   2019-04-24        1   \n",
       "27073  1066700  New Yankee 7: Deer Hunters   2019-04-17        1   \n",
       "27074  1069460                   Rune Lord   2019-04-24        1   \n",
       "\n",
       "                developer             publisher          platforms  \\\n",
       "0                   Valve                 Valve  windows;mac;linux   \n",
       "1                   Valve                 Valve  windows;mac;linux   \n",
       "2                   Valve                 Valve  windows;mac;linux   \n",
       "3                   Valve                 Valve  windows;mac;linux   \n",
       "4        Gearbox Software                 Valve  windows;mac;linux   \n",
       "...                   ...                   ...                ...   \n",
       "27070         SHEN JIAWEI           SHEN JIAWEI            windows   \n",
       "27071      Semyon Maximov      BekkerDev Studio            windows   \n",
       "27072         EntwicklerX           EntwicklerX            windows   \n",
       "27073  Yustas Game Studio  Alawar Entertainment        windows;mac   \n",
       "27074    Adept Studios GD  Alawar Entertainment        windows;mac   \n",
       "\n",
       "       required_age                                         categories  \\\n",
       "0                 0  Multi-player;Online Multi-Player;Local Multi-P...   \n",
       "1                 0  Multi-player;Online Multi-Player;Local Multi-P...   \n",
       "2                 0              Multi-player;Valve Anti-Cheat enabled   \n",
       "3                 0  Multi-player;Online Multi-Player;Local Multi-P...   \n",
       "4                 0  Single-player;Multi-player;Valve Anti-Cheat en...   \n",
       "...             ...                                                ...   \n",
       "27070             0                   Single-player;Steam Achievements   \n",
       "27071             0                                      Single-player   \n",
       "27072             0  Single-player;Multi-player;Co-op;Shared/Split ...   \n",
       "27073             0                          Single-player;Steam Cloud   \n",
       "27074             0                          Single-player;Steam Cloud   \n",
       "\n",
       "                       genres                 steamspy_tags  achievements  \\\n",
       "0                      Action        Action;FPS;Multiplayer             0   \n",
       "1                      Action        Action;FPS;Multiplayer             0   \n",
       "2                      Action  FPS;World War II;Multiplayer             0   \n",
       "3                      Action        Action;FPS;Multiplayer             0   \n",
       "4                      Action             FPS;Action;Sci-fi             0   \n",
       "...                       ...                           ...           ...   \n",
       "27070  Adventure;Casual;Indie        Adventure;Indie;Casual             7   \n",
       "27071  Action;Adventure;Indie        Action;Indie;Adventure             0   \n",
       "27072     Action;Casual;Indie           Action;Indie;Casual            24   \n",
       "27073  Adventure;Casual;Indie        Indie;Casual;Adventure             0   \n",
       "27074  Adventure;Casual;Indie        Indie;Casual;Adventure             0   \n",
       "\n",
       "       positive_ratings  negative_ratings  average_playtime  median_playtime  \\\n",
       "0                124534              3339             17612              317   \n",
       "1                  3318               633               277               62   \n",
       "2                  3416               398               187               34   \n",
       "3                  1273               267               258              184   \n",
       "4                  5250               288               624              415   \n",
       "...                 ...               ...               ...              ...   \n",
       "27070                 3                 0                 0                0   \n",
       "27071                 8                 1                 0                0   \n",
       "27072                 0                 1                 0                0   \n",
       "27073                 2                 0                 0                0   \n",
       "27074                 4                 0                 0                0   \n",
       "\n",
       "                  owners  price  \n",
       "0      10000000-20000000   7.19  \n",
       "1       5000000-10000000   3.99  \n",
       "2       5000000-10000000   3.99  \n",
       "3       5000000-10000000   3.99  \n",
       "4       5000000-10000000   3.99  \n",
       "...                  ...    ...  \n",
       "27070            0-20000   2.09  \n",
       "27071            0-20000   1.69  \n",
       "27072            0-20000   3.99  \n",
       "27073            0-20000   5.19  \n",
       "27074            0-20000   5.19  \n",
       "\n",
       "[27075 rows x 18 columns]"
      ]
     },
     "execution_count": 3,
     "metadata": {},
     "output_type": "execute_result"
    }
   ],
   "source": [
    "master_data = pandas.read_csv('steamData/steam.csv')\n",
    "master_data"
   ]
  },
  {
   "cell_type": "markdown",
   "metadata": {},
   "source": [
    "### TIDYING DATA\n",
    "The first step is to narrow our search to something more managable. First, let's contstrain our search for trends to only indie games. Thankfully, steam puts this in the genre tag, so we can filter for it like so:"
   ]
  },
  {
   "cell_type": "code",
   "execution_count": 4,
   "metadata": {},
   "outputs": [],
   "source": [
    "#get all of the games that have Indie in their genre\n",
    "indie_data = master_data [ master_data['genres'].str.contains('Indie')] "
   ]
  },
  {
   "cell_type": "markdown",
   "metadata": {},
   "source": [
    "Next, there are some entries in this data set that simply aren't of interest to us. For instance, I don't think the \n",
    "appID is going to be of use to us. \n",
    "Thankfully it's not hard to remove columns:"
   ]
  },
  {
   "cell_type": "markdown",
   "metadata": {},
   "source": [
    "Since we're trying to figure out how well games sell, we need a way to measure that. Unfortunately, steam reports these numbers oddly, as an ownership range. For instance, the lowest range is 0-20000 owners. To make things more numerical, I've chosen to take the mean of each of these ranges, and use that as our ownership measure. Since we can't know precisely where in a category a game fell, the middle of the range serves as a resonable estimate. \n",
    "\n",
    "We can do this in pandas like so: "
   ]
  },
  {
   "cell_type": "code",
   "execution_count": 5,
   "metadata": {},
   "outputs": [],
   "source": [
    "del indie_data['appid']"
   ]
  },
  {
   "cell_type": "markdown",
   "metadata": {},
   "source": [
    "I'm also going to drop a few other columns, they might be useful for some other analyses, but for my purposes they just get in the way!"
   ]
  },
  {
   "cell_type": "code",
   "execution_count": 6,
   "metadata": {},
   "outputs": [],
   "source": [
    "del indie_data['english']#drop the english column, all popular games have the value 1\n",
    "del indie_data['developer']#we already know that these are indie games, that's all the publisher information we need\n"
   ]
  },
  {
   "cell_type": "code",
   "execution_count": 7,
   "metadata": {},
   "outputs": [],
   "source": [
    "#ownership is reported as a string range, let's find the middle of each of those ranges, and put the result \n",
    "#in a new column in indie_data called 'mean_owners'\n",
    "mean_owners = [(int(y)-int(x))/2+int(x) for x,y in indie_data['owners'].str.split('-')]\n",
    "indie_data = indie_data.assign(mean_owners = mean_owners)"
   ]
  },
  {
   "cell_type": "markdown",
   "metadata": {},
   "source": [
    "This change will let us sort by number of owners, for instance. \n",
    "\n",
    "That's not all we can do to tidy our data, though. \n",
    "\n",
    "Based on the theory 'all press is good press' I want to see if there is a correlation between ownership numbers, and total ratings. Unfortunately, steam only reports negative ratings, and positive ratings. So, let's compute the total, and add that column. \n",
    "like so:"
   ]
  },
  {
   "cell_type": "code",
   "execution_count": 8,
   "metadata": {},
   "outputs": [],
   "source": [
    "indie_data = indie_data.assign(total_ratings = indie_data['negative_ratings']+indie_data['positive_ratings'])"
   ]
  },
  {
   "cell_type": "markdown",
   "metadata": {},
   "source": [
    "While we're at it, let's check if some sort of review system actually matters, with a ratio of positive reviews, to total reviews. \n"
   ]
  },
  {
   "cell_type": "code",
   "execution_count": 9,
   "metadata": {},
   "outputs": [],
   "source": [
    "indie_data = indie_data.assign(positive_rating_ratio = indie_data['positive_ratings']/indie_data['total_ratings'])"
   ]
  },
  {
   "cell_type": "markdown",
   "metadata": {},
   "source": [
    "The first thing we might want to do, is look at the most popular games on steam, what features do they share in common? "
   ]
  },
  {
   "cell_type": "code",
   "execution_count": 10,
   "metadata": {},
   "outputs": [
    {
     "data": {
      "text/html": [
       "<div>\n",
       "<style scoped>\n",
       "    .dataframe tbody tr th:only-of-type {\n",
       "        vertical-align: middle;\n",
       "    }\n",
       "\n",
       "    .dataframe tbody tr th {\n",
       "        vertical-align: top;\n",
       "    }\n",
       "\n",
       "    .dataframe thead th {\n",
       "        text-align: right;\n",
       "    }\n",
       "</style>\n",
       "<table border=\"1\" class=\"dataframe\">\n",
       "  <thead>\n",
       "    <tr style=\"text-align: right;\">\n",
       "      <th></th>\n",
       "      <th>name</th>\n",
       "      <th>release_date</th>\n",
       "      <th>publisher</th>\n",
       "      <th>platforms</th>\n",
       "      <th>required_age</th>\n",
       "      <th>categories</th>\n",
       "      <th>genres</th>\n",
       "      <th>steamspy_tags</th>\n",
       "      <th>achievements</th>\n",
       "      <th>positive_ratings</th>\n",
       "      <th>negative_ratings</th>\n",
       "      <th>average_playtime</th>\n",
       "      <th>median_playtime</th>\n",
       "      <th>owners</th>\n",
       "      <th>price</th>\n",
       "      <th>mean_owners</th>\n",
       "      <th>total_ratings</th>\n",
       "      <th>positive_rating_ratio</th>\n",
       "    </tr>\n",
       "  </thead>\n",
       "  <tbody>\n",
       "    <tr>\n",
       "      <th>3362</th>\n",
       "      <td>Unturned</td>\n",
       "      <td>2017-07-07</td>\n",
       "      <td>Smartly Dressed Games</td>\n",
       "      <td>windows;mac;linux</td>\n",
       "      <td>0</td>\n",
       "      <td>Single-player;Online Multi-Player;Online Co-op...</td>\n",
       "      <td>Action;Adventure;Casual;Free to Play;Indie</td>\n",
       "      <td>Free to Play;Survival;Zombies</td>\n",
       "      <td>46</td>\n",
       "      <td>292574</td>\n",
       "      <td>31482</td>\n",
       "      <td>3248</td>\n",
       "      <td>413</td>\n",
       "      <td>20000000-50000000</td>\n",
       "      <td>0.00</td>\n",
       "      <td>35000000.0</td>\n",
       "      <td>324056</td>\n",
       "      <td>0.902850</td>\n",
       "    </tr>\n",
       "    <tr>\n",
       "      <th>3251</th>\n",
       "      <td>Robocraft</td>\n",
       "      <td>2017-08-24</td>\n",
       "      <td>Freejam</td>\n",
       "      <td>windows;mac;linux</td>\n",
       "      <td>0</td>\n",
       "      <td>Multi-player;Online Multi-Player;MMO;Online Co...</td>\n",
       "      <td>Action;Free to Play;Indie;Massively Multiplaye...</td>\n",
       "      <td>Free to Play;Robots;Building</td>\n",
       "      <td>43</td>\n",
       "      <td>80360</td>\n",
       "      <td>30987</td>\n",
       "      <td>1369</td>\n",
       "      <td>211</td>\n",
       "      <td>10000000-20000000</td>\n",
       "      <td>0.00</td>\n",
       "      <td>15000000.0</td>\n",
       "      <td>111347</td>\n",
       "      <td>0.721708</td>\n",
       "    </tr>\n",
       "    <tr>\n",
       "      <th>2952</th>\n",
       "      <td>Brawlhalla</td>\n",
       "      <td>2017-10-17</td>\n",
       "      <td>Ubisoft</td>\n",
       "      <td>windows;mac</td>\n",
       "      <td>0</td>\n",
       "      <td>Single-player;Multi-player;Online Multi-Player...</td>\n",
       "      <td>Action;Free to Play;Indie</td>\n",
       "      <td>Free to Play;Multiplayer;Fighting</td>\n",
       "      <td>39</td>\n",
       "      <td>73268</td>\n",
       "      <td>14489</td>\n",
       "      <td>724</td>\n",
       "      <td>146</td>\n",
       "      <td>10000000-20000000</td>\n",
       "      <td>0.00</td>\n",
       "      <td>15000000.0</td>\n",
       "      <td>87757</td>\n",
       "      <td>0.834896</td>\n",
       "    </tr>\n",
       "    <tr>\n",
       "      <th>121</th>\n",
       "      <td>Garry's Mod</td>\n",
       "      <td>2006-11-29</td>\n",
       "      <td>Valve</td>\n",
       "      <td>windows;mac;linux</td>\n",
       "      <td>0</td>\n",
       "      <td>Single-player;Multi-player;Co-op;Cross-Platfor...</td>\n",
       "      <td>Indie;Simulation</td>\n",
       "      <td>Sandbox;Multiplayer;Funny</td>\n",
       "      <td>29</td>\n",
       "      <td>363721</td>\n",
       "      <td>16433</td>\n",
       "      <td>12422</td>\n",
       "      <td>1875</td>\n",
       "      <td>10000000-20000000</td>\n",
       "      <td>6.99</td>\n",
       "      <td>15000000.0</td>\n",
       "      <td>380154</td>\n",
       "      <td>0.956773</td>\n",
       "    </tr>\n",
       "    <tr>\n",
       "      <th>1772</th>\n",
       "      <td>Path of Exile</td>\n",
       "      <td>2013-10-23</td>\n",
       "      <td>Grinding Gear Games</td>\n",
       "      <td>windows</td>\n",
       "      <td>0</td>\n",
       "      <td>Single-player;Multi-player;Online Multi-Player...</td>\n",
       "      <td>Action;Adventure;Free to Play;Indie;Massively ...</td>\n",
       "      <td>Free to Play;Action RPG;Hack and Slash</td>\n",
       "      <td>120</td>\n",
       "      <td>71593</td>\n",
       "      <td>6117</td>\n",
       "      <td>5263</td>\n",
       "      <td>492</td>\n",
       "      <td>10000000-20000000</td>\n",
       "      <td>0.00</td>\n",
       "      <td>15000000.0</td>\n",
       "      <td>77710</td>\n",
       "      <td>0.921284</td>\n",
       "    </tr>\n",
       "    <tr>\n",
       "      <th>...</th>\n",
       "      <td>...</td>\n",
       "      <td>...</td>\n",
       "      <td>...</td>\n",
       "      <td>...</td>\n",
       "      <td>...</td>\n",
       "      <td>...</td>\n",
       "      <td>...</td>\n",
       "      <td>...</td>\n",
       "      <td>...</td>\n",
       "      <td>...</td>\n",
       "      <td>...</td>\n",
       "      <td>...</td>\n",
       "      <td>...</td>\n",
       "      <td>...</td>\n",
       "      <td>...</td>\n",
       "      <td>...</td>\n",
       "      <td>...</td>\n",
       "      <td>...</td>\n",
       "    </tr>\n",
       "    <tr>\n",
       "      <th>14038</th>\n",
       "      <td>Nightmare Grotto</td>\n",
       "      <td>2017-05-18</td>\n",
       "      <td>8th Shore, Inc.</td>\n",
       "      <td>windows</td>\n",
       "      <td>0</td>\n",
       "      <td>Single-player;Steam Leaderboards</td>\n",
       "      <td>Violent;Action;Indie</td>\n",
       "      <td>Action;VR;Violent</td>\n",
       "      <td>0</td>\n",
       "      <td>11</td>\n",
       "      <td>3</td>\n",
       "      <td>0</td>\n",
       "      <td>0</td>\n",
       "      <td>0-20000</td>\n",
       "      <td>5.99</td>\n",
       "      <td>10000.0</td>\n",
       "      <td>14</td>\n",
       "      <td>0.785714</td>\n",
       "    </tr>\n",
       "    <tr>\n",
       "      <th>14039</th>\n",
       "      <td>Seance: The Unquiet (Demo 1)</td>\n",
       "      <td>2017-05-02</td>\n",
       "      <td>Holospark</td>\n",
       "      <td>windows</td>\n",
       "      <td>0</td>\n",
       "      <td>Single-player;Partial Controller Support</td>\n",
       "      <td>Indie</td>\n",
       "      <td>Indie;Horror;VR</td>\n",
       "      <td>0</td>\n",
       "      <td>39</td>\n",
       "      <td>2</td>\n",
       "      <td>0</td>\n",
       "      <td>0</td>\n",
       "      <td>0-20000</td>\n",
       "      <td>0.00</td>\n",
       "      <td>10000.0</td>\n",
       "      <td>41</td>\n",
       "      <td>0.951220</td>\n",
       "    </tr>\n",
       "    <tr>\n",
       "      <th>14041</th>\n",
       "      <td>ViveSpray 2</td>\n",
       "      <td>2017-12-27</td>\n",
       "      <td>ciwolsey</td>\n",
       "      <td>windows</td>\n",
       "      <td>0</td>\n",
       "      <td>Single-player</td>\n",
       "      <td>Casual;Indie;Simulation</td>\n",
       "      <td>Indie;Casual;Simulation</td>\n",
       "      <td>0</td>\n",
       "      <td>22</td>\n",
       "      <td>3</td>\n",
       "      <td>0</td>\n",
       "      <td>0</td>\n",
       "      <td>0-20000</td>\n",
       "      <td>5.99</td>\n",
       "      <td>10000.0</td>\n",
       "      <td>25</td>\n",
       "      <td>0.880000</td>\n",
       "    </tr>\n",
       "    <tr>\n",
       "      <th>14042</th>\n",
       "      <td>Power Fist VR</td>\n",
       "      <td>2017-07-12</td>\n",
       "      <td>Applemint</td>\n",
       "      <td>windows</td>\n",
       "      <td>0</td>\n",
       "      <td>Single-player;Steam Achievements;Steam Cloud;S...</td>\n",
       "      <td>Action;Casual;Indie</td>\n",
       "      <td>Action;Indie;Casual</td>\n",
       "      <td>12</td>\n",
       "      <td>2</td>\n",
       "      <td>2</td>\n",
       "      <td>0</td>\n",
       "      <td>0</td>\n",
       "      <td>0-20000</td>\n",
       "      <td>8.99</td>\n",
       "      <td>10000.0</td>\n",
       "      <td>4</td>\n",
       "      <td>0.500000</td>\n",
       "    </tr>\n",
       "    <tr>\n",
       "      <th>27074</th>\n",
       "      <td>Rune Lord</td>\n",
       "      <td>2019-04-24</td>\n",
       "      <td>Alawar Entertainment</td>\n",
       "      <td>windows;mac</td>\n",
       "      <td>0</td>\n",
       "      <td>Single-player;Steam Cloud</td>\n",
       "      <td>Adventure;Casual;Indie</td>\n",
       "      <td>Indie;Casual;Adventure</td>\n",
       "      <td>0</td>\n",
       "      <td>4</td>\n",
       "      <td>0</td>\n",
       "      <td>0</td>\n",
       "      <td>0</td>\n",
       "      <td>0-20000</td>\n",
       "      <td>5.19</td>\n",
       "      <td>10000.0</td>\n",
       "      <td>4</td>\n",
       "      <td>1.000000</td>\n",
       "    </tr>\n",
       "  </tbody>\n",
       "</table>\n",
       "<p>19421 rows × 18 columns</p>\n",
       "</div>"
      ],
      "text/plain": [
       "                               name release_date              publisher  \\\n",
       "3362                       Unturned   2017-07-07  Smartly Dressed Games   \n",
       "3251                      Robocraft   2017-08-24                Freejam   \n",
       "2952                     Brawlhalla   2017-10-17                Ubisoft   \n",
       "121                     Garry's Mod   2006-11-29                  Valve   \n",
       "1772                  Path of Exile   2013-10-23    Grinding Gear Games   \n",
       "...                             ...          ...                    ...   \n",
       "14038              Nightmare Grotto   2017-05-18        8th Shore, Inc.   \n",
       "14039  Seance: The Unquiet (Demo 1)   2017-05-02              Holospark   \n",
       "14041                   ViveSpray 2   2017-12-27               ciwolsey   \n",
       "14042                 Power Fist VR   2017-07-12              Applemint   \n",
       "27074                     Rune Lord   2019-04-24   Alawar Entertainment   \n",
       "\n",
       "               platforms  required_age  \\\n",
       "3362   windows;mac;linux             0   \n",
       "3251   windows;mac;linux             0   \n",
       "2952         windows;mac             0   \n",
       "121    windows;mac;linux             0   \n",
       "1772             windows             0   \n",
       "...                  ...           ...   \n",
       "14038            windows             0   \n",
       "14039            windows             0   \n",
       "14041            windows             0   \n",
       "14042            windows             0   \n",
       "27074        windows;mac             0   \n",
       "\n",
       "                                              categories  \\\n",
       "3362   Single-player;Online Multi-Player;Online Co-op...   \n",
       "3251   Multi-player;Online Multi-Player;MMO;Online Co...   \n",
       "2952   Single-player;Multi-player;Online Multi-Player...   \n",
       "121    Single-player;Multi-player;Co-op;Cross-Platfor...   \n",
       "1772   Single-player;Multi-player;Online Multi-Player...   \n",
       "...                                                  ...   \n",
       "14038                   Single-player;Steam Leaderboards   \n",
       "14039           Single-player;Partial Controller Support   \n",
       "14041                                      Single-player   \n",
       "14042  Single-player;Steam Achievements;Steam Cloud;S...   \n",
       "27074                          Single-player;Steam Cloud   \n",
       "\n",
       "                                                  genres  \\\n",
       "3362          Action;Adventure;Casual;Free to Play;Indie   \n",
       "3251   Action;Free to Play;Indie;Massively Multiplaye...   \n",
       "2952                           Action;Free to Play;Indie   \n",
       "121                                     Indie;Simulation   \n",
       "1772   Action;Adventure;Free to Play;Indie;Massively ...   \n",
       "...                                                  ...   \n",
       "14038                               Violent;Action;Indie   \n",
       "14039                                              Indie   \n",
       "14041                            Casual;Indie;Simulation   \n",
       "14042                                Action;Casual;Indie   \n",
       "27074                             Adventure;Casual;Indie   \n",
       "\n",
       "                                steamspy_tags  achievements  positive_ratings  \\\n",
       "3362            Free to Play;Survival;Zombies            46            292574   \n",
       "3251             Free to Play;Robots;Building            43             80360   \n",
       "2952        Free to Play;Multiplayer;Fighting            39             73268   \n",
       "121                 Sandbox;Multiplayer;Funny            29            363721   \n",
       "1772   Free to Play;Action RPG;Hack and Slash           120             71593   \n",
       "...                                       ...           ...               ...   \n",
       "14038                       Action;VR;Violent             0                11   \n",
       "14039                         Indie;Horror;VR             0                39   \n",
       "14041                 Indie;Casual;Simulation             0                22   \n",
       "14042                     Action;Indie;Casual            12                 2   \n",
       "27074                  Indie;Casual;Adventure             0                 4   \n",
       "\n",
       "       negative_ratings  average_playtime  median_playtime             owners  \\\n",
       "3362              31482              3248              413  20000000-50000000   \n",
       "3251              30987              1369              211  10000000-20000000   \n",
       "2952              14489               724              146  10000000-20000000   \n",
       "121               16433             12422             1875  10000000-20000000   \n",
       "1772               6117              5263              492  10000000-20000000   \n",
       "...                 ...               ...              ...                ...   \n",
       "14038                 3                 0                0            0-20000   \n",
       "14039                 2                 0                0            0-20000   \n",
       "14041                 3                 0                0            0-20000   \n",
       "14042                 2                 0                0            0-20000   \n",
       "27074                 0                 0                0            0-20000   \n",
       "\n",
       "       price  mean_owners  total_ratings  positive_rating_ratio  \n",
       "3362    0.00   35000000.0         324056               0.902850  \n",
       "3251    0.00   15000000.0         111347               0.721708  \n",
       "2952    0.00   15000000.0          87757               0.834896  \n",
       "121     6.99   15000000.0         380154               0.956773  \n",
       "1772    0.00   15000000.0          77710               0.921284  \n",
       "...      ...          ...            ...                    ...  \n",
       "14038   5.99      10000.0             14               0.785714  \n",
       "14039   0.00      10000.0             41               0.951220  \n",
       "14041   5.99      10000.0             25               0.880000  \n",
       "14042   8.99      10000.0              4               0.500000  \n",
       "27074   5.19      10000.0              4               1.000000  \n",
       "\n",
       "[19421 rows x 18 columns]"
      ]
     },
     "execution_count": 10,
     "metadata": {},
     "output_type": "execute_result"
    }
   ],
   "source": [
    "indie_data.sort_values('mean_owners',ascending=False)"
   ]
  },
  {
   "cell_type": "markdown",
   "metadata": {},
   "source": [
    "Well, first off they're all free to play. Second, they are all multi-player, and third, they all have greater than 60% positive reviews. \n",
    "\n",
    "That suggests there may be a correlation between positive rating ratio, and mean ownership, let's make a scatter plot to see if the rest of the data agrees. "
   ]
  },
  {
   "cell_type": "code",
   "execution_count": 11,
   "metadata": {},
   "outputs": [
    {
     "data": {
      "text/plain": [
       "<matplotlib.axes._subplots.AxesSubplot at 0x7f73d66695e0>"
      ]
     },
     "execution_count": 11,
     "metadata": {},
     "output_type": "execute_result"
    },
    {
     "data": {
      "image/png": "[encoded data removed]",
      "text/plain": [
       "<Figure size 432x288 with 1 Axes>"
      ]
     },
     "metadata": {
      "needs_background": "light"
     },
     "output_type": "display_data"
    }
   ],
   "source": [
    "seaborn.scatterplot(indie_data['positive_rating_ratio'],indie_data['mean_owners'])"
   ]
  },
  {
   "cell_type": "markdown",
   "metadata": {},
   "source": [
    "Looking at the data here, there's clearly a positive trend with high-review ratio to number of owners! \n",
    "That's good news for us, that's a result. \n",
    "\n",
    "Of course, this is a pretty obvious one. If people see good reviews on a game, they're going to be more likely to hit buy. Let's do some more digging, see if we can find anything else."
   ]
  },
  {
   "cell_type": "code",
   "execution_count": 12,
   "metadata": {},
   "outputs": [
    {
     "data": {
      "text/plain": [
       "<matplotlib.axes._subplots.AxesSubplot at 0x7f73d6a0f460>"
      ]
     },
     "execution_count": 12,
     "metadata": {},
     "output_type": "execute_result"
    },
    {
     "data": {
      "image/png": "[encoded data removed]",
      "text/plain": [
       "<Figure size 432x288 with 1 Axes>"
      ]
     },
     "metadata": {
      "needs_background": "light"
     },
     "output_type": "display_data"
    }
   ],
   "source": [
    "seaborn.scatterplot(indie_data['average_playtime'],indie_data['mean_owners'])"
   ]
  },
  {
   "cell_type": "markdown",
   "metadata": {},
   "source": [
    "Well, yeah. Looks like no one plays games for that long, this isn't a good metric for us. "
   ]
  },
  {
   "cell_type": "code",
   "execution_count": 13,
   "metadata": {},
   "outputs": [
    {
     "data": {
      "text/plain": [
       "<matplotlib.axes._subplots.AxesSubplot at 0x7f73d6979460>"
      ]
     },
     "execution_count": 13,
     "metadata": {},
     "output_type": "execute_result"
    },
    {
     "data": {
      "image/png": "[encoded data removed]",
      "text/plain": [
       "<Figure size 432x288 with 1 Axes>"
      ]
     },
     "metadata": {
      "needs_background": "light"
     },
     "output_type": "display_data"
    }
   ],
   "source": [
    "seaborn.scatterplot(indie_data['price'],indie_data['mean_owners'])"
   ]
  },
  {
   "cell_type": "markdown",
   "metadata": {},
   "source": [
    "Again, here's a result we can work with. \n",
    "\n",
    "No one buys 160 dollar games, first of all. \n",
    "\n",
    "the most popular games fall within the 0-40 dollar range, with the hot spot looking like around 15-20 dollars. \n",
    "\n",
    "That makes sense for us Indies, unless you're Arc, you can't charge 60 dollars for your game. \n",
    "\n",
    "So we've explored our data, and we know that at least generally, it looks like there are trends here, but let's \n",
    "get formal about that before we go too far. "
   ]
  },
  {
   "cell_type": "markdown",
   "metadata": {},
   "source": [
    "### HYPOTHESIS TESTING\n",
    "Lets fit regressions to the price and ratings graph, to quantatatively determine the relationships that we eyeballed above. \n"
   ]
  },
  {
   "cell_type": "code",
   "execution_count": 14,
   "metadata": {},
   "outputs": [
    {
     "name": "stdout",
     "output_type": "stream",
     "text": [
      "slope: [99201.17587486]\n",
      "intercept: 3501.803614075834\n",
      "R: 0.049891363510506985\n"
     ]
    },
    {
     "data": {
      "text/plain": [
       "19421"
      ]
     },
     "execution_count": 14,
     "metadata": {},
     "output_type": "execute_result"
    }
   ],
   "source": [
    "from sklearn.linear_model import LinearRegression\n",
    "import numpy as np\n",
    "# fit a linear regression to the data\n",
    "reg1 = LinearRegression().fit(np.reshape( np.array(indie_data['positive_rating_ratio']),(-1,1)), indie_data['mean_owners'])\n",
    "print(\"slope: \"+str(reg1.coef_))\n",
    "print(\"intercept: \"+str(reg1.intercept_))\n",
    "print(\"R: \" + str(np.sqrt(reg1.score(np.reshape( np.array(indie_data['positive_rating_ratio']),(-1,1)),indie_data['mean_owners']))))\n",
    "len(indie_data['positive_rating_ratio'])"
   ]
  },
  {
   "cell_type": "code",
   "execution_count": 15,
   "metadata": {},
   "outputs": [
    {
     "name": "stdout",
     "output_type": "stream",
     "text": [
      "slope: [4264.01462864]\n",
      "intercept: 53538.60933415289\n",
      "R: 0.04815491270557685\n"
     ]
    }
   ],
   "source": [
    "reg2 = LinearRegression().fit(np.reshape( np.array(indie_data['price']),(-1,1)), indie_data['mean_owners'])\n",
    "print(\"slope: \"+str(reg2.coef_))\n",
    "print(\"intercept: \"+str(reg2.intercept_))\n",
    "print(\"R: \" + str(np.sqrt(reg2.score(np.reshape( np.array(indie_data['price']),(-1,1)),indie_data['mean_owners']))))"
   ]
  },
  {
   "cell_type": "markdown",
   "metadata": {},
   "source": [
    "This linear regressions report an R value, which roughly measures how a data set is scattered. Now, due to the discrete nature of the steam data, we have P values of roughly .00001, .05 would be sufficient to say that our results are correltated. \n",
    "\n",
    "So, we now know that we're working with actual trends. \n",
    "\n",
    "TODO add equation here\n",
    "\n",
    "Knowing that we have correlations here doesn't give us anything actionable. \n",
    "After all, the goal of this whole project is to find insights in the data that give us a policy with which we can \n",
    "better target game markets on steam! It's good that high-reviewed games sell well, but we can't directly control good reviews. \n",
    "\n",
    "it would be nice to find some parameters that the developer can control directly, which give us the best chance at success. \n",
    "Let's do that now. "
   ]
  },
  {
   "cell_type": "code",
   "execution_count": 26,
   "metadata": {},
   "outputs": [
    {
     "data": {
      "text/plain": [
       "<matplotlib.axes._subplots.AxesSubplot at 0x7f73d537d3a0>"
      ]
     },
     "execution_count": 26,
     "metadata": {},
     "output_type": "execute_result"
    },
    {
     "data": {
      "image/png": "[encoded data removed]",
      "text/plain": [
       "<Figure size 432x288 with 1 Axes>"
      ]
     },
     "metadata": {
      "needs_background": "light"
     },
     "output_type": "display_data"
    }
   ],
   "source": [
    "#get the subset of indie games that are also Mutliplayer\n",
    "multiplayer_indie_data = indie_data[ indie_data['genres'].str.contains('Multiplayer')]\n",
    "#plot the same relationships as above\n",
    "seaborn.scatterplot(multiplayer_indie_data['positive_rating_ratio'],multiplayer_indie_data['mean_owners'])\n"
   ]
  },
  {
   "cell_type": "code",
   "execution_count": 25,
   "metadata": {},
   "outputs": [
    {
     "data": {
      "text/plain": [
       "<matplotlib.axes._subplots.AxesSubplot at 0x7f73d5462d90>"
      ]
     },
     "execution_count": 25,
     "metadata": {},
     "output_type": "execute_result"
    },
    {
     "data": {
      "image/png": "[encoded data removed]",
      "text/plain": [
       "<Figure size 432x288 with 1 Axes>"
      ]
     },
     "metadata": {
      "needs_background": "light"
     },
     "output_type": "display_data"
    }
   ],
   "source": [
    "seaborn.scatterplot(multiplayer_indie_data['price'],multiplayer_indie_data['mean_owners'])"
   ]
  },
  {
   "cell_type": "markdown",
   "metadata": {},
   "source": [
    "So what does this tell us? \n",
    "\n",
    "Firstly, let's look at the mutliplayer plot. It has a much broader peak in the positve ratings/ price departmnent.\n"
   ]
  }
 ],
 "metadata": {
  "kernelspec": {
   "display_name": "Python 3",
   "language": "python",
   "name": "python3"
  },
  "language_info": {
   "codemirror_mode": {
    "name": "ipython",
    "version": 3
   },
   "file_extension": ".py",
   "mimetype": "text/x-python",
   "name": "python",
   "nbconvert_exporter": "python",
   "pygments_lexer": "ipython3",
   "version": "3.8.3"
  }
 },
 "nbformat": 4,
 "nbformat_minor": 4
}
